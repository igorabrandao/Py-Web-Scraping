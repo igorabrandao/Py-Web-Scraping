{
 "cells": [
  {
   "cell_type": "markdown",
   "metadata": {},
   "source": [
    "# Programming Project - Unit 3,2\n",
    "*by Igor A. Brandão and Leandro Antonio Feliciano da Silva*\n",
    "\n",
    "**Goals**\n",
    "The purpose of this project is explore the following:\n",
    "\n",
    "- Access a content using webscraping way;\n",
    "- Catch the following data about people:\n",
    "\n",
    "\n",
    "1. About\n",
    "2. RG\n",
    "3. CPF\n",
    "4. CNPJ\n",
    "5. Name\n",
    "6. Marital state\n",
    "7. Birthdate\n",
    "8. Age\n",
    "9. Education level\n",
    "10. Language\n",
    "11. Workplace\n",
    "12. Salary"
   ]
  },
  {
   "cell_type": "markdown",
   "metadata": {},
   "source": [
    "# Global Imports section\n",
    "\n",
    "#### Import the necessary libraries to handle \n",
    "\n",
    "- Requests;\n",
    "- urlopen;\n",
    "- HTTPError;\n",
    "- BeautifulSoup\n",
    "- Regular expression\n",
    "- Tqdm progress bar"
   ]
  },
  {
   "cell_type": "code",
   "execution_count": 1,
   "metadata": {},
   "outputs": [
    {
     "name": "stdout",
     "output_type": "stream",
     "text": [
      "Requirement already satisfied: tqdm in /home/igorbrandao/anaconda3/lib/python3.6/site-packages\n",
      "Requirement already satisfied: tabulate in /home/igorbrandao/anaconda3/lib/python3.6/site-packages\n"
     ]
    }
   ],
   "source": [
    "### Library necessary to run this IPython Notebook\n",
    "!pip install tqdm\n",
    "\n",
    "### Library necessary to tabulate python outputs\n",
    "!pip install tabulate"
   ]
  },
  {
   "cell_type": "code",
   "execution_count": 2,
   "metadata": {
    "collapsed": true
   },
   "outputs": [],
   "source": [
    "# Imports\n",
    "from urllib.request import Request, urlopen\n",
    "from urllib.error import HTTPError\n",
    "from bs4 import BeautifulSoup\n",
    "import re\n",
    "import requests\n",
    "from tqdm import tqdm"
   ]
  },
  {
   "cell_type": "markdown",
   "metadata": {},
   "source": [
    "# Global variables section\n",
    "\n",
    "#### This section contains is used to define the content variables"
   ]
  },
  {
   "cell_type": "code",
   "execution_count": 3,
   "metadata": {
    "collapsed": true
   },
   "outputs": [],
   "source": [
    "# Content variables\n",
    "about_me = \"\"\n",
    "rg = \"\"\n",
    "cpf = \"\"\n",
    "cnpj = \"\"\n",
    "name = \"\"\n",
    "marital_state = \"\"\n",
    "birthdate = \"\"\n",
    "age = \"\"\n",
    "education_level = []\n",
    "language = []\n",
    "workplace = []\n",
    "salary = []"
   ]
  },
  {
   "cell_type": "markdown",
   "metadata": {},
   "source": [
    "# Function section\n",
    "\n",
    "#### This section contains all the generic functions used in this project"
   ]
  },
  {
   "cell_type": "code",
   "execution_count": 4,
   "metadata": {
    "collapsed": true
   },
   "outputs": [],
   "source": [
    "# Return an soup Object\n",
    "def getSoup(url):\n",
    "    try:\n",
    "        html = requests.get(url)\n",
    "    except HTTPError as e:\n",
    "        return None\n",
    "    try:\n",
    "        soup = BeautifulSoup(html.content, 'html.parser')\n",
    "    except AttributeError as e:\n",
    "        return None\n",
    "    return soup"
   ]
  },
  {
   "cell_type": "code",
   "execution_count": 5,
   "metadata": {
    "collapsed": true
   },
   "outputs": [],
   "source": [
    "# Remove the dirty part from link\n",
    "def getLink(url, dirty):\n",
    "    result = url.split(dirty)\n",
    "    return result[0]"
   ]
  },
  {
   "cell_type": "markdown",
   "metadata": {},
   "source": [
    "# Input section\n",
    "\n",
    "#### This section cover all the basic parameters used to perform the web scrapping operation"
   ]
  },
  {
   "cell_type": "code",
   "execution_count": 6,
   "metadata": {
    "collapsed": true
   },
   "outputs": [],
   "source": [
    "# [Global parameters]\n",
    "\n",
    "# Search term (person name)\n",
    "search_term = \"Ivanovitch Medeiros Dantas da Silva\"\n",
    "\n",
    "# Search limiter\n",
    "search_results_number = \"20\"\n",
    "\n",
    "# Number of recursion (how many levels the search will dig)\n",
    "recursion_number = 2\n",
    "\n",
    "# Base URI\n",
    "search_url = \"https://www.google.com.br/search?q=\""
   ]
  },
  {
   "cell_type": "markdown",
   "metadata": {},
   "source": [
    "#### Here we assemble the final search URI"
   ]
  },
  {
   "cell_type": "code",
   "execution_count": 7,
   "metadata": {
    "collapsed": true
   },
   "outputs": [],
   "source": [
    "# First of all, replace blank spaces by add signals to perform the search\n",
    "search_term_adapted = re.sub(\" \", \"+\", search_term)\n",
    "\n",
    "# Assembly the search URI\n",
    "url = (search_url + search_term_adapted + \"&num=\" + search_results_number)\n",
    "\n",
    "# Access the page content\n",
    "soup = getSoup(url)"
   ]
  },
  {
   "cell_type": "markdown",
   "metadata": {},
   "source": [
    "# Processing section\n",
    "\n",
    "#### This section is responsible for handle the processing\n",
    "\n",
    "#### *Warning:* The *url* must be properly assembled for this section work"
   ]
  },
  {
   "cell_type": "code",
   "execution_count": 8,
   "metadata": {
    "collapsed": true
   },
   "outputs": [],
   "source": [
    "# [Processing parameters]\n",
    "\n",
    "# Search method\n",
    "# It's define how we'll look for the results section\n",
    "# Possible methods {id, tag, className}\n",
    "search_method = \"id\"\n",
    "\n",
    "# Result tag ID (the idea here is just getting the search result and ignore what's left over)\n",
    "result_tag_id = \"res\"\n",
    "\n",
    "# HTML container element\n",
    "element = \"div\"\n",
    "\n",
    "# Class name\n",
    "class_name = \"\"\n",
    "\n",
    "# Content variable\n",
    "content = \"\""
   ]
  },
  {
   "cell_type": "markdown",
   "metadata": {},
   "source": [
    "#### Check the choosen search method"
   ]
  },
  {
   "cell_type": "code",
   "execution_count": 9,
   "metadata": {
    "collapsed": true
   },
   "outputs": [],
   "source": [
    "# Check the search method\n",
    "if search_method == \"id\":\n",
    "   content = soup.findAll(element, id=result_tag_id)[0]\n",
    "elif search_method == \"tag\":\n",
    "   content = soup.findAll(element, limit=1)\n",
    "elif search_method == \"className\":\n",
    "   content = soup.find(class_=class_name)\n",
    "else:\n",
    "   print(\"You must choose one search method\")"
   ]
  },
  {
   "cell_type": "markdown",
   "metadata": {},
   "source": [
    "#### Get the list of result links and put into an array"
   ]
  },
  {
   "cell_type": "code",
   "execution_count": 10,
   "metadata": {},
   "outputs": [
    {
     "name": "stderr",
     "output_type": "stream",
     "text": [
      "100%|██████████| 45/45 [00:00<00:00, 20609.71it/s]\n"
     ]
    }
   ],
   "source": [
    "# Link list\n",
    "link_list = []\n",
    "link_list_content = []\n",
    "link = \"\"\n",
    "\n",
    "# Filter (to avoid receiving undesirable URIs)\n",
    "filters = ['webcache', '.pdf', '.doc', '.docx', '.xls', '.xlsx']\n",
    "\n",
    "# Add the links to the list\n",
    "for item in tqdm(content.find_all('a')):\n",
    "    \n",
    "    # Check if exist a href attribute\n",
    "    if 'href' in item.attrs:\n",
    "        \n",
    "        # Check if it's a link\n",
    "        if 'http' in str(item.attrs):\n",
    "            \n",
    "            # Filter the results accordling to the filter list\n",
    "            if not any(filter_item in str(item.attrs) for filter_item in filters):\n",
    "                \n",
    "                # Remove the dirty part from the link using the defined function getLink()\n",
    "                link = getLink(item.attrs['href'].replace(\"/url?q=\", \"\"), \"&sa=\")\n",
    "                link_list.append(link)"
   ]
  },
  {
   "cell_type": "markdown",
   "metadata": {},
   "source": [
    "#### Run into inside links n levels (depends on recursion_number)\n",
    "\n",
    "**Important:** recursion_number = 2 means read the search page and its sub-links (1 level)"
   ]
  },
  {
   "cell_type": "code",
   "execution_count": 11,
   "metadata": {
    "scrolled": false
   },
   "outputs": [
    {
     "name": "stderr",
     "output_type": "stream",
     "text": [
      "1it [00:00,  1.62it/s]"
     ]
    },
    {
     "name": "stdout",
     "output_type": "stream",
     "text": [
      "https://sigaa.ufrn.br/sigaa/public/docente/portal.jsf%3Fsiape%3D2885532\n",
      "===============================================================================================\n"
     ]
    },
    {
     "name": "stderr",
     "output_type": "stream",
     "text": [
      "\r",
      "2it [00:00,  2.00it/s]"
     ]
    },
    {
     "name": "stdout",
     "output_type": "stream",
     "text": [
      "http://www.dca.ufrn.br/~ivan/\n",
      "===============================================================================================\n"
     ]
    },
    {
     "name": "stderr",
     "output_type": "stream",
     "text": [
      "\r",
      "3it [00:01,  2.36it/s]"
     ]
    },
    {
     "name": "stdout",
     "output_type": "stream",
     "text": [
      "http://www.dca.ufrn.br/~ivan/index.php%3Fcorpo%3Dproducao.php\n",
      "===============================================================================================\n"
     ]
    },
    {
     "name": "stderr",
     "output_type": "stream",
     "text": [
      "\r",
      "4it [00:01,  2.48it/s]"
     ]
    },
    {
     "name": "stdout",
     "output_type": "stream",
     "text": [
      "http://www.dca.ufrn.br/~ivan/index.php%3Fcorpo%3Dapresenta.php\n",
      "===============================================================================================\n"
     ]
    },
    {
     "name": "stderr",
     "output_type": "stream",
     "text": [
      "\r",
      "5it [00:03,  1.20it/s]"
     ]
    },
    {
     "name": "stdout",
     "output_type": "stream",
     "text": [
      "https://scholar.google.com/citations%3Fuser%3Daa5xs_0AAAAJ\n",
      "===============================================================================================\n"
     ]
    },
    {
     "name": "stderr",
     "output_type": "stream",
     "text": [
      "\r",
      "6it [00:05,  1.12s/it]"
     ]
    },
    {
     "name": "stdout",
     "output_type": "stream",
     "text": [
      "https://www.escavador.com/sobre/7485210/ivanovitch-medeiros-dantas-da-silva\n",
      "===============================================================================================\n"
     ]
    },
    {
     "name": "stderr",
     "output_type": "stream",
     "text": [
      "\r",
      "7it [00:07,  1.47s/it]"
     ]
    },
    {
     "name": "stdout",
     "output_type": "stream",
     "text": [
      "https://www.escavador.com/sobre/11169212/ivanovitch-medeiros-dantas-da-silva\n",
      "===============================================================================================\n"
     ]
    },
    {
     "name": "stderr",
     "output_type": "stream",
     "text": [
      "\r",
      "8it [00:07,  1.18s/it]"
     ]
    },
    {
     "name": "stdout",
     "output_type": "stream",
     "text": [
      "http://www.dca.ufrn.br/~ivan/\n",
      "===============================================================================================\n"
     ]
    },
    {
     "name": "stderr",
     "output_type": "stream",
     "text": [
      "\r",
      "9it [00:08,  1.02s/it]"
     ]
    },
    {
     "name": "stdout",
     "output_type": "stream",
     "text": [
      "https://sigaa.ufrn.br/sigaa/public/departamento/professores.jsf%3Fid%3D6069\n",
      "===============================================================================================\n"
     ]
    },
    {
     "name": "stderr",
     "output_type": "stream",
     "text": [
      "\r",
      "10it [00:09,  1.03s/it]"
     ]
    },
    {
     "name": "stdout",
     "output_type": "stream",
     "text": [
      "https://portal.imd.ufrn.br/2017/02/16/aluno-do-imdufrn-e-convidado-para-trabalhar-na-microsoft/\n",
      "===============================================================================================\n"
     ]
    },
    {
     "name": "stderr",
     "output_type": "stream",
     "text": [
      "\r",
      "11it [00:10,  1.01s/it]"
     ]
    },
    {
     "name": "stdout",
     "output_type": "stream",
     "text": [
      "http://www.ccet.ufrn.br/prh22/discentes_ex_alunos.htm\n",
      "===============================================================================================\n"
     ]
    },
    {
     "name": "stderr",
     "output_type": "stream",
     "text": [
      "\r",
      "12it [00:11,  1.01it/s]"
     ]
    },
    {
     "name": "stdout",
     "output_type": "stream",
     "text": [
      "https://portal.imd.ufrn.br/2017/02/16/aluno-do-imdufrn-e-convidado-para-trabalhar-na-microsoft/\n",
      "===============================================================================================\n"
     ]
    },
    {
     "name": "stderr",
     "output_type": "stream",
     "text": [
      "\r",
      "13it [00:13,  1.32s/it]"
     ]
    },
    {
     "name": "stdout",
     "output_type": "stream",
     "text": [
      "http://www.nossaciencia.com.br/espalhando-a-cultura-empreendedora\n",
      "===============================================================================================\n"
     ]
    },
    {
     "name": "stderr",
     "output_type": "stream",
     "text": [
      "\r",
      "14it [00:15,  1.65s/it]"
     ]
    },
    {
     "name": "stdout",
     "output_type": "stream",
     "text": [
      "https://sigarra.up.pt/feup/pt/func_geral.formview%3Fp_codigo%3D470835\n",
      "===============================================================================================\n"
     ]
    },
    {
     "name": "stderr",
     "output_type": "stream",
     "text": [
      "\r",
      "15it [00:18,  1.94s/it]"
     ]
    },
    {
     "name": "stdout",
     "output_type": "stream",
     "text": [
      "https://pt-br.facebook.com/lii.ufrn/\n",
      "===============================================================================================\n"
     ]
    },
    {
     "name": "stderr",
     "output_type": "stream",
     "text": [
      "\r",
      "16it [00:25,  3.54s/it]"
     ]
    },
    {
     "name": "stdout",
     "output_type": "stream",
     "text": [
      "http://www.nossaciencia.com.br/espalhando-a-cultura-empreendedora\n",
      "===============================================================================================\n"
     ]
    },
    {
     "name": "stderr",
     "output_type": "stream",
     "text": [
      "\r",
      "17it [00:26,  2.72s/it]"
     ]
    },
    {
     "name": "stdout",
     "output_type": "stream",
     "text": [
      "http://bdtd.ibict.br/vufind/Author/Home%3Fauthor%3DSilva%252C%2BIvanovitch%2BMedeiros%2BDantas%2Bda\n",
      "===============================================================================================\n"
     ]
    },
    {
     "name": "stderr",
     "output_type": "stream",
     "text": [
      "\r",
      "18it [00:27,  2.17s/it]"
     ]
    },
    {
     "name": "stdout",
     "output_type": "stream",
     "text": [
      "http://mossorohoje.com.br/noticias/15468/valeu-a-pena-gastar-horas-estudando-diz-potiguar-convidado-para-trabalhar-na-microsoft\n",
      "===============================================================================================\n"
     ]
    },
    {
     "name": "stderr",
     "output_type": "stream",
     "text": [
      "\r",
      "19it [00:27,  1.65s/it]"
     ]
    },
    {
     "name": "stdout",
     "output_type": "stream",
     "text": [
      "https://www.natal.rn.gov.br/bvn/detalheNoticia.php%3FvalorRegistro%3D22649\n",
      "===============================================================================================\n"
     ]
    },
    {
     "name": "stderr",
     "output_type": "stream",
     "text": [
      "\r",
      "20it [00:31,  2.22s/it]"
     ]
    },
    {
     "name": "stdout",
     "output_type": "stream",
     "text": [
      "http://www.jusbrasil.com.br/topicos/84719252/jacinta-fabiara-cordeiro-campos\n",
      "===============================================================================================\n"
     ]
    },
    {
     "name": "stderr",
     "output_type": "stream",
     "text": [
      "\r",
      "21it [00:32,  1.91s/it]"
     ]
    },
    {
     "name": "stdout",
     "output_type": "stream",
     "text": [
      "http://scholar.google.com.br/citations%3Fuser%3DYItyGFkAAAAJ%26hl%3Dpt-BR\n",
      "===============================================================================================\n"
     ]
    },
    {
     "name": "stderr",
     "output_type": "stream",
     "text": [
      "\r",
      "22it [00:34,  1.86s/it]"
     ]
    },
    {
     "name": "stdout",
     "output_type": "stream",
     "text": [
      "https://www.lsec.icmc.usp.br/en/wocces\n",
      "===============================================================================================\n"
     ]
    },
    {
     "name": "stderr",
     "output_type": "stream",
     "text": [
      "\r",
      "23it [00:35,  1.64s/it]"
     ]
    },
    {
     "name": "stdout",
     "output_type": "stream",
     "text": [
      "https://contas.tcu.gov.br/juris/SvlHighLight%3Bjsessionid%3D1BFE4D3AF3E3C59E723D6E7B7EA070CF%3Fkey%3DACORDAO-RELACAO-LEGADO-109358-23-2012-55162012%26texto%3D50524f43253341313738363532303132332a%26sort%3DRELEVANCIA%26ordem%3DDESC%26bases%3DACORDAO-LEGADO%3BDECISAO-LEGADO%3BRELACAO-LEGADO%3BACORDAO-RELACAO-LEGADO%3B%26highlight%3D%26posicaoDocumento%3D0\n",
      "===============================================================================================\n"
     ]
    },
    {
     "name": "stderr",
     "output_type": "stream",
     "text": [
      "\n"
     ]
    }
   ],
   "source": [
    "# Add the links to the list\n",
    "for idx, item in tqdm(enumerate(link_list)):\n",
    "    link_list_content.append(getSoup(item))\n",
    "    print(item)\n",
    "    print(\"===============================================================================================\")"
   ]
  },
  {
   "cell_type": "markdown",
   "metadata": {},
   "source": [
    "# Page scrapping function section\n",
    "\n",
    "#### This section contains the functions to dig the source"
   ]
  },
  {
   "cell_type": "code",
   "execution_count": 12,
   "metadata": {},
   "outputs": [],
   "source": [
    "# Return an soup Object\n",
    "def getFromEscavador(content_, contentType_):\n",
    "    \n",
    "    # ==========================================================\n",
    "    # About\n",
    "    # ==========================================================\n",
    "    if contentType_ == \"about\":\n",
    "        \n",
    "        # Dig the elements\n",
    "        first_div = content_.find('div',{\"class\" : \"box -flushHorizontal\"})\n",
    "        child_element = first_div.findAll('p', limit=1)\n",
    "        \n",
    "        # Assign the result\n",
    "        return(child_element[0].text)\n",
    "    \n",
    "    # ==========================================================\n",
    "    # Name\n",
    "    # ==========================================================\n",
    "    elif contentType_ == \"name\":\n",
    "        \n",
    "        # Dig the elements and return the result\n",
    "        return(content_.find(class_=\"heading name\").text)\n",
    "    \n",
    "    # ==========================================================\n",
    "    # Education level\n",
    "    # ==========================================================\n",
    "    elif contentType_ == \"education_level\":\n",
    "        \n",
    "        # Array with education\n",
    "        education = []\n",
    "        \n",
    "        # Dig the elements\n",
    "        for item in content_.findAll(class_='heading -likeH5 inline-edit-item inline-edit-item-formacao'):\n",
    "            if item.text:\n",
    "                education.append(item.text)\n",
    "        \n",
    "        # Return the education list\n",
    "        return(education)\n",
    "    \n",
    "    # ==========================================================\n",
    "    # Language\n",
    "    # ==========================================================\n",
    "    elif contentType_ == \"language\":\n",
    "        \n",
    "        # Array with languages\n",
    "        language_list = []\n",
    "        \n",
    "        # Dig the elements\n",
    "        for item in content_.findAll('div', id='idiomas'):\n",
    "            if item:\n",
    "                # Look for all languages\n",
    "                for subitem in item.findAll(class_='col-sm-6 clearfix-box'):\n",
    "                    # Get the language description\n",
    "                    child_element = subitem.findAll('p', limit=2)\n",
    "\n",
    "                    if child_element[0] and child_element[1]:\n",
    "                        # Append it to the language list\n",
    "                        language_list.append(child_element[0].text + \" - \" + child_element[1].text.replace('\\n', ' '))\n",
    "        \n",
    "        # Return the education list\n",
    "        return(language_list)\n",
    "    \n",
    "    # ==========================================================\n",
    "    # Workplace\n",
    "    # ==========================================================\n",
    "    elif contentType_ == \"workplace\":\n",
    "        \n",
    "        # Array with workplaces\n",
    "        workplace_list = []\n",
    "        \n",
    "        # Dig the elements\n",
    "        for item in content_.findAll('div', id='endereco-profissional'):\n",
    "            if item:\n",
    "                # Look for all workplaces\n",
    "                for subitem in item.findAll(class_='item'):\n",
    "                    # Get the workplace description\n",
    "                    child_element = subitem.find('p')\n",
    "\n",
    "                    if child_element:\n",
    "                        # Append it to the language list\n",
    "                        workplace_list.append(child_element.text)\n",
    "        \n",
    "        # Return the education list\n",
    "        return(workplace_list)"
   ]
  },
  {
   "cell_type": "code",
   "execution_count": 13,
   "metadata": {
    "collapsed": true
   },
   "outputs": [],
   "source": [
    "# Return an soup Object\n",
    "# Important: This function works just with public workers\n",
    "def getFromPortalDaTransparencia(contentType_):\n",
    "    \n",
    "    if contentType_ == \"salary\":\n",
    "    \n",
    "        # ==========================================================\n",
    "        # Public worker ID and CPF\n",
    "        # ==========================================================\n",
    "    \n",
    "        # Handle global search term\n",
    "        global search_term\n",
    "        \n",
    "        # Worker informations handler\n",
    "        worker_id = 0;\n",
    "        worker_info = []\n",
    "        \n",
    "        # Base URI\n",
    "        search_url = \"http://www.portaltransparencia.gov.br/servidores/Servidor-ListaServidores.asp?bogus=1&Pagina=1&TextoPesquisa=\"\n",
    "        \n",
    "        # First of all, replace blank spaces by add signals to perform the search\n",
    "        search_term_adapted = re.sub(\" \", \"%20\", search_term)\n",
    "\n",
    "        # Assembly the search URI\n",
    "        url = (search_url + search_term_adapted)\n",
    "\n",
    "        # Access the page content\n",
    "        salary_content = getSoup(url)\n",
    "        \n",
    "        # Dig the elements\n",
    "        for item in salary_content.findAll('div', id='listagem'):\n",
    "            if item:\n",
    "\n",
    "                 # Check if exist a href attribute\n",
    "                for subitem in item.findAll('td'):\n",
    "                    \n",
    "                    # Get the worker CPF\n",
    "                    if 'class' in subitem.attrs:\n",
    "                        worker_info.append(subitem.text)\n",
    "    \n",
    "                    # Get the worker id\n",
    "                    for sub_subitem in subitem.findAll('a'):\n",
    "                    \n",
    "                        if 'href' in sub_subitem.attrs:\n",
    "                \n",
    "                            # Check if it's a link\n",
    "                            if 'IdServidor' in str(sub_subitem.attrs):\n",
    "\n",
    "                                # Remove the dirty part from the link\n",
    "                                result = sub_subitem.attrs['href'].split('IdServidor=')\n",
    "                                workerId = result[1]\n",
    "                        \n",
    "                                # Get the worker id\n",
    "                                worker_info.append(worker_id)\n",
    "                                worker_id = workerId\n",
    "                    \n",
    "        # ==========================================================\n",
    "        # Public worker salary\n",
    "        # ==========================================================\n",
    "        \n",
    "        # Check if worker informations was found\n",
    "        if worker_info:\n",
    "            \n",
    "            # Renew worker_info array\n",
    "            worker_info = []\n",
    "            worker_info.append(worker_id)\n",
    "            \n",
    "            # Base URI\n",
    "            search_url = \"http://www.portaltransparencia.gov.br/servidores/Servidor-DetalhaRemuneracao.asp?Op=1&IdServidor=\" + worker_id + \"&bInformacaoFinanceira=True\"\n",
    "\n",
    "            # Access the page content\n",
    "            salary_detail_content = getSoup(search_url)\n",
    "            \n",
    "            # Dig the elements\n",
    "            for item in salary_detail_content.findAll('td',{\"class\" : \"colunaValor\"}):\n",
    "                \n",
    "                if item.text.strip():\n",
    "                    worker_info.append(item.text.strip())\n",
    "        \n",
    "        return(worker_info)"
   ]
  },
  {
   "cell_type": "markdown",
   "metadata": {},
   "source": [
    "#### Get the information (it is the main flow)"
   ]
  },
  {
   "cell_type": "code",
   "execution_count": 14,
   "metadata": {},
   "outputs": [
    {
     "name": "stderr",
     "output_type": "stream",
     "text": [
      "23it [00:01, 15.38it/s]\n"
     ]
    }
   ],
   "source": [
    "# First of all, run through link list content\n",
    "for idx, item in tqdm(enumerate(link_list_content)):\n",
    "    \n",
    "    # Try to look for the information in available sources\n",
    "    \n",
    "    # ==========================================================\n",
    "    # Escavador source\n",
    "    # ==========================================================\n",
    "    if \"Escavador\" in str(item) or \"escavador\" in str(item):\n",
    "        \n",
    "        # Get informations from Escavador\n",
    "        if not name:\n",
    "            name = getFromEscavador(item, \"name\")\n",
    "            \n",
    "        if not about_me:\n",
    "            about_me = getFromEscavador(item, \"about\")\n",
    "            \n",
    "        if not education_level:\n",
    "            education_level = getFromEscavador(item, \"education_level\")\n",
    "            \n",
    "        if not language:\n",
    "            language = getFromEscavador(item, \"language\")\n",
    "            \n",
    "        if not workplace:\n",
    "            workplace = getFromEscavador(item, \"workplace\")\n",
    "    \n",
    "    # ==========================================================\n",
    "    # Other source\n",
    "    # =========================================================="
   ]
  },
  {
   "cell_type": "code",
   "execution_count": 15,
   "metadata": {},
   "outputs": [],
   "source": [
    "# Try to get the salary (just work with public workers)\n",
    "salary = getFromPortalDaTransparencia(\"salary\")"
   ]
  },
  {
   "cell_type": "markdown",
   "metadata": {},
   "source": [
    "# Result section\n",
    "\n",
    "#### Now it's the time of truth, let's see whats our program can bring about you ;-)"
   ]
  },
  {
   "cell_type": "code",
   "execution_count": 16,
   "metadata": {},
   "outputs": [
    {
     "data": {
      "text/markdown": [
       "# Hello, Ivanovitch Medeiros Dantas da Silva!"
      ],
      "text/plain": [
       "<IPython.core.display.Markdown object>"
      ]
     },
     "metadata": {},
     "output_type": "display_data"
    },
    {
     "data": {
      "text/markdown": [
       "<hr>"
      ],
      "text/plain": [
       "<IPython.core.display.Markdown object>"
      ]
     },
     "metadata": {},
     "output_type": "display_data"
    },
    {
     "data": {
      "text/markdown": [
       "**Your name:** Ivanovitch Medeiros Dantas da Silva"
      ],
      "text/plain": [
       "<IPython.core.display.Markdown object>"
      ]
     },
     "metadata": {},
     "output_type": "display_data"
    },
    {
     "data": {
      "text/markdown": [
       "**Some about you:** Possui graduação em Engenharia de Computação (2006), mestrado (2008) e doutorado (2013) em Engenharia Elétrica e Computação pela Universidade Federal do Rio Grande do Norte e co-participação da Universidade do Porto (Sanduíche). Desde 2013 é docente da Universidade Federal do Rio Grande do Norte sendo lotado no Instituto Metrópole Digital (IMD). Atua no Programa de Pós Graduação em Engenharia Elétrica e de Computação (PPGEEC) da UFRN, orientando trabalhos de mestrado e doutorado. Seus interesses em pesquisa incluem: modelagem e análise científica de dados, dependabilidade, redes de sensores sem fio, internet das coisas industriais (IIoT) e desenvolvimento de aplicações para Cidades Inteligentes."
      ],
      "text/plain": [
       "<IPython.core.display.Markdown object>"
      ]
     },
     "metadata": {},
     "output_type": "display_data"
    },
    {
     "data": {
      "text/markdown": [
       "**Education level:**"
      ],
      "text/plain": [
       "<IPython.core.display.Markdown object>"
      ]
     },
     "metadata": {},
     "output_type": "display_data"
    },
    {
     "name": "stdout",
     "output_type": "stream",
     "text": [
      "--------------------------------------------\n",
      "Doutorado em Engenharia Elétrica\n",
      "Mestrado em Engenharia Elétrica e Computação\n",
      "Graduação em Engenharia de Computação\n",
      "--------------------------------------------\n"
     ]
    },
    {
     "data": {
      "text/markdown": [
       "**Language(s):**"
      ],
      "text/plain": [
       "<IPython.core.display.Markdown object>"
      ]
     },
     "metadata": {},
     "output_type": "display_data"
    },
    {
     "name": "stdout",
     "output_type": "stream",
     "text": [
      "--------------------------------------------------------\n",
      "Inglês -  Compreende Bem, Fala Bem, Lê Bem, Escreve Bem.\n",
      "--------------------------------------------------------\n"
     ]
    },
    {
     "data": {
      "text/markdown": [
       "**Workplace(s):**"
      ],
      "text/plain": [
       "<IPython.core.display.Markdown object>"
      ]
     },
     "metadata": {},
     "output_type": "display_data"
    },
    {
     "name": "stdout",
     "output_type": "stream",
     "text": [
      "--------------------------------------------------------------------------------------------------------------------------------------------------------------------------------------------------------------\n",
      "Universidade Federal do Rio Grande do Norte, Instituto Metropole Digital. , Campus Universitario Lagoa Nova, Lagoa Nova, 59072970 - Natal, RN - Brasil, Telefone: (084) 32422216, Ramal: 131, URL da Homepage:\n",
      "--------------------------------------------------------------------------------------------------------------------------------------------------------------------------------------------------------------\n"
     ]
    },
    {
     "data": {
      "text/markdown": [
       "**Salary informations:**"
      ],
      "text/plain": [
       "<IPython.core.display.Markdown object>"
      ]
     },
     "metadata": {},
     "output_type": "display_data"
    },
    {
     "data": {
      "text/markdown": [
       "*Worker ID: *1500347"
      ],
      "text/plain": [
       "<IPython.core.display.Markdown object>"
      ]
     },
     "metadata": {},
     "output_type": "display_data"
    },
    {
     "data": {
      "text/markdown": [
       "*Worker CPF: ****.654.994-**"
      ],
      "text/plain": [
       "<IPython.core.display.Markdown object>"
      ]
     },
     "metadata": {},
     "output_type": "display_data"
    },
    {
     "data": {
      "text/markdown": [
       "*Worker Type: *Civil"
      ],
      "text/plain": [
       "<IPython.core.display.Markdown object>"
      ]
     },
     "metadata": {},
     "output_type": "display_data"
    },
    {
     "data": {
      "text/markdown": [
       "<hr>"
      ],
      "text/plain": [
       "<IPython.core.display.Markdown object>"
      ]
     },
     "metadata": {},
     "output_type": "display_data"
    },
    {
     "data": {
      "text/markdown": [
       "***Base salary: *R$ 13.308,31"
      ],
      "text/plain": [
       "<IPython.core.display.Markdown object>"
      ]
     },
     "metadata": {},
     "output_type": "display_data"
    },
    {
     "data": {
      "text/markdown": [
       "*IRRF: *R$ -2.435,93"
      ],
      "text/plain": [
       "<IPython.core.display.Markdown object>"
      ]
     },
     "metadata": {},
     "output_type": "display_data"
    },
    {
     "data": {
      "text/markdown": [
       "*PSS/RPGS: *R$ -608,44"
      ],
      "text/plain": [
       "<IPython.core.display.Markdown object>"
      ]
     },
     "metadata": {},
     "output_type": "display_data"
    },
    {
     "data": {
      "text/markdown": [
       "*Other discounts: *R$ -32,10"
      ],
      "text/plain": [
       "<IPython.core.display.Markdown object>"
      ]
     },
     "metadata": {},
     "output_type": "display_data"
    },
    {
     "data": {
      "text/markdown": [
       "*Final salary: *R$ 10.231,84"
      ],
      "text/plain": [
       "<IPython.core.display.Markdown object>"
      ]
     },
     "metadata": {},
     "output_type": "display_data"
    }
   ],
   "source": [
    "# Imports to output the result as a Markdown\n",
    "from IPython.display import display, Markdown\n",
    "\n",
    "# Imports to tabulate outputs\n",
    "from tabulate import tabulate\n",
    "\n",
    "# ==========================================================\n",
    "# Display informations\n",
    "# ==========================================================\n",
    "display(Markdown('# Hello, ' + name + '!'))\n",
    "display(Markdown('<hr>'))\n",
    "\n",
    "# Name\n",
    "if name:\n",
    "    display(Markdown('**Your name:** ' + name))\n",
    "\n",
    "# About you\n",
    "if about_me:\n",
    "    display(Markdown('**Some about you:** ' + about_me))\n",
    "\n",
    "# Education level (print as a tabular list)\n",
    "if education_level:\n",
    "    display(Markdown('**Education level:**'))\n",
    "    \n",
    "    list = zip(education_level)\n",
    "    print(tabulate(list))\n",
    "\n",
    "# Languages (print as a tabular list)\n",
    "if language:\n",
    "    display(Markdown('**Language(s):**'))\n",
    "    \n",
    "    list = zip(language)\n",
    "    print(tabulate(list))\n",
    "    \n",
    "# Workplaces (print as a tabular list)\n",
    "if workplace:\n",
    "    display(Markdown('**Workplace(s):**'))\n",
    "    \n",
    "    list = zip(workplace)\n",
    "    print(tabulate(list))\n",
    "\n",
    "# Salary\n",
    "if salary:\n",
    "    display(Markdown('**Salary informations:**'))\n",
    "    \n",
    "    display(Markdown('*Worker ID: *' + salary[0]))\n",
    "    display(Markdown('*Worker CPF: *' + salary[2]))\n",
    "    display(Markdown('*Worker Type: *' + salary[3]))\n",
    "    display(Markdown('<hr>'))\n",
    "    display(Markdown('***Base salary: *' + 'R$ ' + salary[4]))\n",
    "    display(Markdown('*IRRF: *' + 'R$ ' + salary[5]))\n",
    "    display(Markdown('*PSS/RPGS: *' + 'R$ ' + salary[6]))\n",
    "    display(Markdown('*Other discounts: *' + 'R$ ' + salary[7]))\n",
    "    display(Markdown('*Final salary: *' + 'R$ ' + salary[8]))\n",
    "    \n",
    "    "
   ]
  },
  {
   "cell_type": "code",
   "execution_count": null,
   "metadata": {
    "collapsed": true
   },
   "outputs": [],
   "source": []
  }
 ],
 "metadata": {
  "kernelspec": {
   "display_name": "Python 3",
   "language": "python",
   "name": "python3"
  },
  "language_info": {
   "codemirror_mode": {
    "name": "ipython",
    "version": 3
   },
   "file_extension": ".py",
   "mimetype": "text/x-python",
   "name": "python",
   "nbconvert_exporter": "python",
   "pygments_lexer": "ipython3",
   "version": "3.6.0"
  }
 },
 "nbformat": 4,
 "nbformat_minor": 2
}

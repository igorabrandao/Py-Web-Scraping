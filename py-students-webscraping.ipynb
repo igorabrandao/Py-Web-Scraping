{
 "cells": [
  {
   "cell_type": "markdown",
   "metadata": {},
   "source": [
    "# Programming Project - Unit 3,2\n",
    "*by Igor A. Brandão and Leandro Antonio Feliciano da Silva*\n",
    "\n",
    "**Goals**\n",
    "The purpose of this project is explore the following:\n",
    "\n",
    "- Access a content using webscraping way;\n",
    "- Catch the following data about people:\n",
    "\n",
    "\n",
    "1. About\n",
    "2. RG\n",
    "3. CPF\n",
    "4. CNPJ\n",
    "5. Name\n",
    "6. Marital state\n",
    "7. Birthdate\n",
    "8. Age\n",
    "9. Education level"
   ]
  },
  {
   "cell_type": "markdown",
   "metadata": {},
   "source": [
    "# Global Imports section\n",
    "\n",
    "#### Import the necessary libraries to handle \n",
    "\n",
    "- Requests;\n",
    "- urlopen;\n",
    "- HTTPError;\n",
    "- BeautifulSoup\n",
    "- Regular expression\n",
    "- Tqdm progress bar"
   ]
  },
  {
   "cell_type": "code",
   "execution_count": 21,
   "metadata": {},
   "outputs": [
    {
     "name": "stdout",
     "output_type": "stream",
     "text": [
      "Requirement already satisfied: tqdm in /home/igorbrandao/anaconda3/lib/python3.6/site-packages\r\n"
     ]
    }
   ],
   "source": [
    "### Library necessary to run this IPython Notebook\n",
    "!pip install tqdm"
   ]
  },
  {
   "cell_type": "code",
   "execution_count": 22,
   "metadata": {
    "collapsed": true
   },
   "outputs": [],
   "source": [
    "# Imports\n",
    "from urllib.request import Request, urlopen\n",
    "from urllib.error import HTTPError\n",
    "from bs4 import BeautifulSoup\n",
    "import re\n",
    "import requests\n",
    "from tqdm import tqdm"
   ]
  },
  {
   "cell_type": "markdown",
   "metadata": {},
   "source": [
    "# Global variables section\n",
    "\n",
    "#### This section contains is used to define the content variables"
   ]
  },
  {
   "cell_type": "code",
   "execution_count": 97,
   "metadata": {
    "collapsed": true
   },
   "outputs": [],
   "source": [
    "# Content variables\n",
    "about_me = \"\"\n",
    "rg = \"\"\n",
    "cpf = \"\"\n",
    "cnpj = \"\"\n",
    "name = \"\"\n",
    "marital_state = \"\"\n",
    "birthdate = \"\"\n",
    "age = \"\"\n",
    "education_level = \"\""
   ]
  },
  {
   "cell_type": "markdown",
   "metadata": {},
   "source": [
    "# Function section\n",
    "\n",
    "#### This section contains all the generic functions used in this project"
   ]
  },
  {
   "cell_type": "code",
   "execution_count": 23,
   "metadata": {
    "collapsed": true
   },
   "outputs": [],
   "source": [
    "# Return an soup Object\n",
    "def getSoup(url):\n",
    "    try:\n",
    "        html = requests.get(url)\n",
    "    except HTTPError as e:\n",
    "        return None\n",
    "    try:\n",
    "        soup = BeautifulSoup(html.content, 'html.parser')\n",
    "    except AttributeError as e:\n",
    "        return None\n",
    "    return soup"
   ]
  },
  {
   "cell_type": "code",
   "execution_count": 24,
   "metadata": {
    "collapsed": true
   },
   "outputs": [],
   "source": [
    "# Remove the dirty part from link\n",
    "def getLink(url, dirty):\n",
    "    result = url.split(dirty)\n",
    "    return result[0]"
   ]
  },
  {
   "cell_type": "markdown",
   "metadata": {},
   "source": [
    "# Input section\n",
    "\n",
    "#### This section cover all the basic parameters used to perform the web scrapping operation"
   ]
  },
  {
   "cell_type": "code",
   "execution_count": 25,
   "metadata": {
    "collapsed": true
   },
   "outputs": [],
   "source": [
    "# [Global parameters]\n",
    "\n",
    "# Search term (person name)\n",
    "search_term = \"Ivanovitch Medeiros Dantas da Silva\"\n",
    "\n",
    "# Search limiter\n",
    "search_results_number = \"20\"\n",
    "\n",
    "# Number of recursion (how many levels the search will dig)\n",
    "recursion_number = 2\n",
    "\n",
    "# Base URI\n",
    "search_url = \"https://www.google.com.br/search?q=\""
   ]
  },
  {
   "cell_type": "markdown",
   "metadata": {},
   "source": [
    "#### Here we assemble the final search URI"
   ]
  },
  {
   "cell_type": "code",
   "execution_count": 26,
   "metadata": {
    "collapsed": true
   },
   "outputs": [],
   "source": [
    "# First of all, replace blank spaces by add signals to perform the search\n",
    "search_term = re.sub(\" \", \"+\", search_term)\n",
    "\n",
    "# Assembly the search URI\n",
    "url = (search_url + search_term + \"&num=\" + search_results_number)\n",
    "\n",
    "# Access the page content\n",
    "soup = getSoup(url)"
   ]
  },
  {
   "cell_type": "markdown",
   "metadata": {},
   "source": [
    "# Processing section\n",
    "\n",
    "#### This section is responsible for handle the processing\n",
    "\n",
    "#### *Warning:* The *url* must be properly assembled for this section work"
   ]
  },
  {
   "cell_type": "code",
   "execution_count": 27,
   "metadata": {
    "collapsed": true
   },
   "outputs": [],
   "source": [
    "# [Processing parameters]\n",
    "\n",
    "# Search method\n",
    "# It's define how we'll look for the results section\n",
    "# Possible methods {id, tag, className}\n",
    "search_method = \"id\"\n",
    "\n",
    "# Result tag ID (the idea here is just getting the search result and ignore what's left over)\n",
    "result_tag_id = \"res\"\n",
    "\n",
    "# HTML container element\n",
    "element = \"div\"\n",
    "\n",
    "# Class name\n",
    "class_name = \"\"\n",
    "\n",
    "# Content variable\n",
    "content = \"\""
   ]
  },
  {
   "cell_type": "markdown",
   "metadata": {},
   "source": [
    "#### Check the choosen search method"
   ]
  },
  {
   "cell_type": "code",
   "execution_count": 28,
   "metadata": {
    "collapsed": true
   },
   "outputs": [],
   "source": [
    "# Check the search method\n",
    "if search_method == \"id\":\n",
    "   content = soup.findAll(element, id=result_tag_id)[0]\n",
    "elif search_method == \"tag\":\n",
    "   content = soup.findAll(element, limit=1)\n",
    "elif search_method == \"className\":\n",
    "   content = soup.find(class_=class_name)\n",
    "else:\n",
    "   print(\"You must choose one search method\")"
   ]
  },
  {
   "cell_type": "markdown",
   "metadata": {},
   "source": [
    "#### Get the list of result links and put into an array"
   ]
  },
  {
   "cell_type": "code",
   "execution_count": 29,
   "metadata": {},
   "outputs": [
    {
     "name": "stderr",
     "output_type": "stream",
     "text": [
      "100%|██████████| 45/45 [00:00<00:00, 20513.39it/s]\n"
     ]
    }
   ],
   "source": [
    "# Link list\n",
    "link_list = []\n",
    "link_list_content = []\n",
    "link = \"\"\n",
    "\n",
    "# Filter (to avoid receiving undesirable URIs)\n",
    "filters = ['webcache', '.pdf', '.doc', '.docx', '.xls', '.xlsx']\n",
    "\n",
    "# Add the links to the list\n",
    "for item in tqdm(content.find_all('a')):\n",
    "    \n",
    "    # Check if exist a href attribute\n",
    "    if 'href' in item.attrs:\n",
    "        \n",
    "        # Check if it's a link\n",
    "        if 'http' in str(item.attrs):\n",
    "            \n",
    "            # Filter the results accordling to the filter list\n",
    "            if not any(filter_item in str(item.attrs) for filter_item in filters):\n",
    "                \n",
    "                # Remove the dirty part from the link using the defined function getLink()\n",
    "                link = getLink(item.attrs['href'].replace(\"/url?q=\", \"\"), \"&sa=\")\n",
    "                link_list.append(link)"
   ]
  },
  {
   "cell_type": "markdown",
   "metadata": {},
   "source": [
    "#### Run into inside links n levels (depends on recursion_number)\n",
    "\n",
    "**Important:** recursion_number = 2 means read the search page and its sub-links (1 level)"
   ]
  },
  {
   "cell_type": "code",
   "execution_count": 30,
   "metadata": {
    "scrolled": false
   },
   "outputs": [
    {
     "name": "stderr",
     "output_type": "stream",
     "text": [
      "1it [00:00,  4.85it/s]"
     ]
    },
    {
     "name": "stdout",
     "output_type": "stream",
     "text": [
      "https://sigaa.ufrn.br/sigaa/public/docente/portal.jsf%3Fsiape%3D2885532\n",
      "===============================================================================================\n",
      "http://www.dca.ufrn.br/~ivan/\n",
      "===============================================================================================\n",
      "http://www.dca.ufrn.br/~ivan/index.php%3Fcorpo%3Dproducao.php\n",
      "===============================================================================================\n",
      "http://www.dca.ufrn.br/~ivan/index.php%3Fcorpo%3Dapresenta.php\n",
      "===============================================================================================\n"
     ]
    },
    {
     "name": "stderr",
     "output_type": "stream",
     "text": [
      "\r",
      "5it [00:06,  1.66it/s]"
     ]
    },
    {
     "name": "stdout",
     "output_type": "stream",
     "text": [
      "https://scholar.google.com/citations%3Fuser%3Daa5xs_0AAAAJ\n",
      "===============================================================================================\n"
     ]
    },
    {
     "name": "stderr",
     "output_type": "stream",
     "text": [
      "\r",
      "6it [00:08,  1.03it/s]"
     ]
    },
    {
     "name": "stdout",
     "output_type": "stream",
     "text": [
      "https://www.escavador.com/sobre/7485210/ivanovitch-medeiros-dantas-da-silva\n",
      "===============================================================================================\n"
     ]
    },
    {
     "name": "stderr",
     "output_type": "stream",
     "text": [
      "\r",
      "7it [00:09,  1.14s/it]"
     ]
    },
    {
     "name": "stdout",
     "output_type": "stream",
     "text": [
      "https://www.escavador.com/sobre/11169212/ivanovitch-medeiros-dantas-da-silva\n",
      "===============================================================================================\n",
      "http://www.dca.ufrn.br/~ivan/\n",
      "===============================================================================================\n"
     ]
    },
    {
     "name": "stderr",
     "output_type": "stream",
     "text": [
      "\r",
      "9it [00:09,  1.20it/s]"
     ]
    },
    {
     "name": "stdout",
     "output_type": "stream",
     "text": [
      "https://sigaa.ufrn.br/sigaa/public/departamento/professores.jsf%3Fid%3D6069\n",
      "===============================================================================================\n"
     ]
    },
    {
     "name": "stderr",
     "output_type": "stream",
     "text": [
      "\r",
      "10it [00:10,  1.36it/s]"
     ]
    },
    {
     "name": "stdout",
     "output_type": "stream",
     "text": [
      "https://portal.imd.ufrn.br/2017/02/16/aluno-do-imdufrn-e-convidado-para-trabalhar-na-microsoft/\n",
      "===============================================================================================\n"
     ]
    },
    {
     "name": "stderr",
     "output_type": "stream",
     "text": [
      "12it [00:11,  1.41it/s]"
     ]
    },
    {
     "name": "stdout",
     "output_type": "stream",
     "text": [
      "http://www.ccet.ufrn.br/prh22/discentes_ex_alunos.htm\n",
      "===============================================================================================\n",
      "https://portal.imd.ufrn.br/2017/02/16/aluno-do-imdufrn-e-convidado-para-trabalhar-na-microsoft/\n",
      "===============================================================================================\n"
     ]
    },
    {
     "name": "stderr",
     "output_type": "stream",
     "text": [
      "\r",
      "13it [00:12,  1.20it/s]"
     ]
    },
    {
     "name": "stdout",
     "output_type": "stream",
     "text": [
      "http://www.nossaciencia.com.br/espalhando-a-cultura-empreendedora\n",
      "===============================================================================================\n"
     ]
    },
    {
     "name": "stderr",
     "output_type": "stream",
     "text": [
      "\r",
      "14it [00:15,  1.30s/it]"
     ]
    },
    {
     "name": "stdout",
     "output_type": "stream",
     "text": [
      "https://sigarra.up.pt/feup/pt/func_geral.formview%3Fp_codigo%3D470835\n",
      "===============================================================================================\n"
     ]
    },
    {
     "name": "stderr",
     "output_type": "stream",
     "text": [
      "\r",
      "15it [00:17,  1.46s/it]"
     ]
    },
    {
     "name": "stdout",
     "output_type": "stream",
     "text": [
      "https://pt-br.facebook.com/lii.ufrn/\n",
      "===============================================================================================\n"
     ]
    },
    {
     "name": "stderr",
     "output_type": "stream",
     "text": [
      "\r",
      "16it [00:18,  1.41s/it]"
     ]
    },
    {
     "name": "stdout",
     "output_type": "stream",
     "text": [
      "http://www.nossaciencia.com.br/espalhando-a-cultura-empreendedora\n",
      "===============================================================================================\n"
     ]
    },
    {
     "name": "stderr",
     "output_type": "stream",
     "text": [
      "\r",
      "17it [00:19,  1.14s/it]"
     ]
    },
    {
     "name": "stdout",
     "output_type": "stream",
     "text": [
      "http://bdtd.ibict.br/vufind/Author/Home%3Fauthor%3DSilva%252C%2BIvanovitch%2BMedeiros%2BDantas%2Bda\n",
      "===============================================================================================\n"
     ]
    },
    {
     "name": "stderr",
     "output_type": "stream",
     "text": [
      "19it [00:19,  1.42it/s]"
     ]
    },
    {
     "name": "stdout",
     "output_type": "stream",
     "text": [
      "http://mossorohoje.com.br/noticias/15468/valeu-a-pena-gastar-horas-estudando-diz-potiguar-convidado-para-trabalhar-na-microsoft\n",
      "===============================================================================================\n",
      "https://www.natal.rn.gov.br/bvn/detalheNoticia.php%3FvalorRegistro%3D22649\n",
      "===============================================================================================\n"
     ]
    },
    {
     "name": "stderr",
     "output_type": "stream",
     "text": [
      "\r",
      "20it [00:22,  1.21s/it]"
     ]
    },
    {
     "name": "stdout",
     "output_type": "stream",
     "text": [
      "http://www.jusbrasil.com.br/topicos/84719252/jacinta-fabiara-cordeiro-campos\n",
      "===============================================================================================\n"
     ]
    },
    {
     "name": "stderr",
     "output_type": "stream",
     "text": [
      "\r",
      "21it [00:22,  1.04it/s]"
     ]
    },
    {
     "name": "stdout",
     "output_type": "stream",
     "text": [
      "http://scholar.google.com.br/citations%3Fuser%3DYItyGFkAAAAJ%26hl%3Dpt-BR\n",
      "===============================================================================================\n"
     ]
    },
    {
     "name": "stderr",
     "output_type": "stream",
     "text": [
      "\r",
      "22it [00:23,  1.12it/s]"
     ]
    },
    {
     "name": "stdout",
     "output_type": "stream",
     "text": [
      "https://www.lsec.icmc.usp.br/en/wocces\n",
      "===============================================================================================\n"
     ]
    },
    {
     "name": "stderr",
     "output_type": "stream",
     "text": [
      "\r",
      "23it [00:25,  1.46s/it]"
     ]
    },
    {
     "name": "stdout",
     "output_type": "stream",
     "text": [
      "https://contas.tcu.gov.br/juris/SvlHighLight%3Bjsessionid%3D1BFE4D3AF3E3C59E723D6E7B7EA070CF%3Fkey%3DACORDAO-RELACAO-LEGADO-109358-23-2012-55162012%26texto%3D50524f43253341313738363532303132332a%26sort%3DRELEVANCIA%26ordem%3DDESC%26bases%3DACORDAO-LEGADO%3BDECISAO-LEGADO%3BRELACAO-LEGADO%3BACORDAO-RELACAO-LEGADO%3B%26highlight%3D%26posicaoDocumento%3D0\n",
      "===============================================================================================\n"
     ]
    },
    {
     "name": "stderr",
     "output_type": "stream",
     "text": [
      "\n"
     ]
    }
   ],
   "source": [
    "# Add the links to the list\n",
    "for idx, item in tqdm(enumerate(link_list)):\n",
    "    link_list_content.append(getSoup(item))\n",
    "    print(item)\n",
    "    print(\"===============================================================================================\")"
   ]
  },
  {
   "cell_type": "markdown",
   "metadata": {},
   "source": [
    "# Page scrapping function section\n",
    "\n",
    "#### This section contains the functions to dig the source"
   ]
  },
  {
   "cell_type": "code",
   "execution_count": 115,
   "metadata": {},
   "outputs": [],
   "source": [
    "# Return an soup Object\n",
    "def getFromEscavador(content_, contentType_):\n",
    "    \n",
    "    # ==========================================================\n",
    "    # About\n",
    "    # ==========================================================\n",
    "    if contentType_ == \"about\":\n",
    "        \n",
    "        # Dig the elements\n",
    "        first_div = content_.find('div',{\"class\" : \"box -flushHorizontal\"})\n",
    "        child_element = first_div.findAll('p', limit=1)\n",
    "        \n",
    "        # Assign the result\n",
    "        return(child_element[0].text)\n",
    "    \n",
    "    # ==========================================================\n",
    "    # Name\n",
    "    # ==========================================================\n",
    "    elif contentType_ == \"name\":\n",
    "        \n",
    "        # Dig the elements and return the result\n",
    "        return(content_.find(class_=\"heading name\").text)"
   ]
  },
  {
   "cell_type": "markdown",
   "metadata": {},
   "source": [
    "#### Get the information"
   ]
  },
  {
   "cell_type": "code",
   "execution_count": 117,
   "metadata": {},
   "outputs": [
    {
     "name": "stderr",
     "output_type": "stream",
     "text": [
      "23it [00:01, 19.02it/s]\n"
     ]
    }
   ],
   "source": [
    "# First of all, run through link list content\n",
    "for idx, item in tqdm(enumerate(link_list_content)):\n",
    "    \n",
    "    # Try to look for the information in available sources\n",
    "    \n",
    "    # ==========================================================\n",
    "    # Escavador source\n",
    "    # ==========================================================\n",
    "    if \"Escavador\" in str(item) or \"escavador\" in str(item):\n",
    "        \n",
    "        # Get information from Escavador\n",
    "        if not name:\n",
    "            name = getFromEscavador(item, \"name\")\n",
    "            \n",
    "        if not about_me:\n",
    "            about_me = getFromEscavador(item, \"about\")\n",
    "    \n",
    "    # ==========================================================\n",
    "    # Other source\n",
    "    # =========================================================="
   ]
  },
  {
   "cell_type": "code",
   "execution_count": 118,
   "metadata": {},
   "outputs": [
    {
     "data": {
      "text/plain": [
       "'Ivanovitch Medeiros Dantas da Silva'"
      ]
     },
     "execution_count": 118,
     "metadata": {},
     "output_type": "execute_result"
    }
   ],
   "source": [
    "name"
   ]
  },
  {
   "cell_type": "code",
   "execution_count": 119,
   "metadata": {},
   "outputs": [
    {
     "data": {
      "text/plain": [
       "'Possui graduação em Engenharia de Computação (2006), mestrado (2008) e doutorado (2013) em Engenharia Elétrica e Computação pela Universidade Federal do Rio Grande do Norte e co-participação da Universidade do Porto (Sanduíche). Desde 2013 é docente da Universidade Federal do Rio Grande do Norte sendo lotado no Instituto Metrópole Digital (IMD). Atua no Programa de Pós Graduação em Engenharia Elétrica e de Computação (PPGEEC) da UFRN, orientando trabalhos de mestrado e doutorado. Seus interesses em pesquisa incluem: modelagem e análise científica de dados, dependabilidade, redes de sensores sem fio, internet das coisas industriais (IIoT) e desenvolvimento de aplicações para Cidades Inteligentes.'"
      ]
     },
     "execution_count": 119,
     "metadata": {},
     "output_type": "execute_result"
    }
   ],
   "source": [
    "about_me"
   ]
  },
  {
   "cell_type": "code",
   "execution_count": null,
   "metadata": {
    "collapsed": true
   },
   "outputs": [],
   "source": []
  }
 ],
 "metadata": {
  "kernelspec": {
   "display_name": "Python 3",
   "language": "python",
   "name": "python3"
  },
  "language_info": {
   "codemirror_mode": {
    "name": "ipython",
    "version": 3
   },
   "file_extension": ".py",
   "mimetype": "text/x-python",
   "name": "python",
   "nbconvert_exporter": "python",
   "pygments_lexer": "ipython3",
   "version": "3.6.0"
  }
 },
 "nbformat": 4,
 "nbformat_minor": 2
}
